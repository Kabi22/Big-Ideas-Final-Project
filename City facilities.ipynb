{
 "cells": [
  {
   "cell_type": "code",
   "execution_count": 4,
   "metadata": {},
   "outputs": [],
   "source": [
    "import pandas as pd\n",
    "import numpy as np"
   ]
  },
  {
   "cell_type": "code",
   "execution_count": 10,
   "metadata": {},
   "outputs": [
    {
     "ename": "FileNotFoundError",
     "evalue": "[Errno 2] File facilities.csv does not exist: 'facilities.csv'",
     "output_type": "error",
     "traceback": [
      "\u001b[0;31m---------------------------------------------------------------------------\u001b[0m",
      "\u001b[0;31mFileNotFoundError\u001b[0m                         Traceback (most recent call last)",
      "\u001b[0;32m<ipython-input-10-8359f27faa6b>\u001b[0m in \u001b[0;36m<module>\u001b[0;34m\u001b[0m\n\u001b[0;32m----> 1\u001b[0;31m \u001b[0mfacilities\u001b[0m \u001b[0;34m=\u001b[0m \u001b[0mpd\u001b[0m\u001b[0;34m.\u001b[0m\u001b[0mread_csv\u001b[0m\u001b[0;34m(\u001b[0m\u001b[0;34m\"facilities.csv\"\u001b[0m\u001b[0;34m)\u001b[0m\u001b[0;34m\u001b[0m\u001b[0;34m\u001b[0m\u001b[0m\n\u001b[0m\u001b[1;32m      2\u001b[0m \u001b[0mfacilities\u001b[0m\u001b[0;34m.\u001b[0m\u001b[0mhead\u001b[0m\u001b[0;34m(\u001b[0m\u001b[0;36m5\u001b[0m\u001b[0;34m)\u001b[0m\u001b[0;34m\u001b[0m\u001b[0;34m\u001b[0m\u001b[0m\n",
      "\u001b[0;32m/opt/tljh/user/lib/python3.8/site-packages/pandas/io/parsers.py\u001b[0m in \u001b[0;36mparser_f\u001b[0;34m(filepath_or_buffer, sep, delimiter, header, names, index_col, usecols, squeeze, prefix, mangle_dupe_cols, dtype, engine, converters, true_values, false_values, skipinitialspace, skiprows, skipfooter, nrows, na_values, keep_default_na, na_filter, verbose, skip_blank_lines, parse_dates, infer_datetime_format, keep_date_col, date_parser, dayfirst, cache_dates, iterator, chunksize, compression, thousands, decimal, lineterminator, quotechar, quoting, doublequote, escapechar, comment, encoding, dialect, error_bad_lines, warn_bad_lines, delim_whitespace, low_memory, memory_map, float_precision)\u001b[0m\n\u001b[1;32m    674\u001b[0m         )\n\u001b[1;32m    675\u001b[0m \u001b[0;34m\u001b[0m\u001b[0m\n\u001b[0;32m--> 676\u001b[0;31m         \u001b[0;32mreturn\u001b[0m \u001b[0m_read\u001b[0m\u001b[0;34m(\u001b[0m\u001b[0mfilepath_or_buffer\u001b[0m\u001b[0;34m,\u001b[0m \u001b[0mkwds\u001b[0m\u001b[0;34m)\u001b[0m\u001b[0;34m\u001b[0m\u001b[0;34m\u001b[0m\u001b[0m\n\u001b[0m\u001b[1;32m    677\u001b[0m \u001b[0;34m\u001b[0m\u001b[0m\n\u001b[1;32m    678\u001b[0m     \u001b[0mparser_f\u001b[0m\u001b[0;34m.\u001b[0m\u001b[0m__name__\u001b[0m \u001b[0;34m=\u001b[0m \u001b[0mname\u001b[0m\u001b[0;34m\u001b[0m\u001b[0;34m\u001b[0m\u001b[0m\n",
      "\u001b[0;32m/opt/tljh/user/lib/python3.8/site-packages/pandas/io/parsers.py\u001b[0m in \u001b[0;36m_read\u001b[0;34m(filepath_or_buffer, kwds)\u001b[0m\n\u001b[1;32m    446\u001b[0m \u001b[0;34m\u001b[0m\u001b[0m\n\u001b[1;32m    447\u001b[0m     \u001b[0;31m# Create the parser.\u001b[0m\u001b[0;34m\u001b[0m\u001b[0;34m\u001b[0m\u001b[0;34m\u001b[0m\u001b[0m\n\u001b[0;32m--> 448\u001b[0;31m     \u001b[0mparser\u001b[0m \u001b[0;34m=\u001b[0m \u001b[0mTextFileReader\u001b[0m\u001b[0;34m(\u001b[0m\u001b[0mfp_or_buf\u001b[0m\u001b[0;34m,\u001b[0m \u001b[0;34m**\u001b[0m\u001b[0mkwds\u001b[0m\u001b[0;34m)\u001b[0m\u001b[0;34m\u001b[0m\u001b[0;34m\u001b[0m\u001b[0m\n\u001b[0m\u001b[1;32m    449\u001b[0m \u001b[0;34m\u001b[0m\u001b[0m\n\u001b[1;32m    450\u001b[0m     \u001b[0;32mif\u001b[0m \u001b[0mchunksize\u001b[0m \u001b[0;32mor\u001b[0m \u001b[0miterator\u001b[0m\u001b[0;34m:\u001b[0m\u001b[0;34m\u001b[0m\u001b[0;34m\u001b[0m\u001b[0m\n",
      "\u001b[0;32m/opt/tljh/user/lib/python3.8/site-packages/pandas/io/parsers.py\u001b[0m in \u001b[0;36m__init__\u001b[0;34m(self, f, engine, **kwds)\u001b[0m\n\u001b[1;32m    878\u001b[0m             \u001b[0mself\u001b[0m\u001b[0;34m.\u001b[0m\u001b[0moptions\u001b[0m\u001b[0;34m[\u001b[0m\u001b[0;34m\"has_index_names\"\u001b[0m\u001b[0;34m]\u001b[0m \u001b[0;34m=\u001b[0m \u001b[0mkwds\u001b[0m\u001b[0;34m[\u001b[0m\u001b[0;34m\"has_index_names\"\u001b[0m\u001b[0;34m]\u001b[0m\u001b[0;34m\u001b[0m\u001b[0;34m\u001b[0m\u001b[0m\n\u001b[1;32m    879\u001b[0m \u001b[0;34m\u001b[0m\u001b[0m\n\u001b[0;32m--> 880\u001b[0;31m         \u001b[0mself\u001b[0m\u001b[0;34m.\u001b[0m\u001b[0m_make_engine\u001b[0m\u001b[0;34m(\u001b[0m\u001b[0mself\u001b[0m\u001b[0;34m.\u001b[0m\u001b[0mengine\u001b[0m\u001b[0;34m)\u001b[0m\u001b[0;34m\u001b[0m\u001b[0;34m\u001b[0m\u001b[0m\n\u001b[0m\u001b[1;32m    881\u001b[0m \u001b[0;34m\u001b[0m\u001b[0m\n\u001b[1;32m    882\u001b[0m     \u001b[0;32mdef\u001b[0m \u001b[0mclose\u001b[0m\u001b[0;34m(\u001b[0m\u001b[0mself\u001b[0m\u001b[0;34m)\u001b[0m\u001b[0;34m:\u001b[0m\u001b[0;34m\u001b[0m\u001b[0;34m\u001b[0m\u001b[0m\n",
      "\u001b[0;32m/opt/tljh/user/lib/python3.8/site-packages/pandas/io/parsers.py\u001b[0m in \u001b[0;36m_make_engine\u001b[0;34m(self, engine)\u001b[0m\n\u001b[1;32m   1112\u001b[0m     \u001b[0;32mdef\u001b[0m \u001b[0m_make_engine\u001b[0m\u001b[0;34m(\u001b[0m\u001b[0mself\u001b[0m\u001b[0;34m,\u001b[0m \u001b[0mengine\u001b[0m\u001b[0;34m=\u001b[0m\u001b[0;34m\"c\"\u001b[0m\u001b[0;34m)\u001b[0m\u001b[0;34m:\u001b[0m\u001b[0;34m\u001b[0m\u001b[0;34m\u001b[0m\u001b[0m\n\u001b[1;32m   1113\u001b[0m         \u001b[0;32mif\u001b[0m \u001b[0mengine\u001b[0m \u001b[0;34m==\u001b[0m \u001b[0;34m\"c\"\u001b[0m\u001b[0;34m:\u001b[0m\u001b[0;34m\u001b[0m\u001b[0;34m\u001b[0m\u001b[0m\n\u001b[0;32m-> 1114\u001b[0;31m             \u001b[0mself\u001b[0m\u001b[0;34m.\u001b[0m\u001b[0m_engine\u001b[0m \u001b[0;34m=\u001b[0m \u001b[0mCParserWrapper\u001b[0m\u001b[0;34m(\u001b[0m\u001b[0mself\u001b[0m\u001b[0;34m.\u001b[0m\u001b[0mf\u001b[0m\u001b[0;34m,\u001b[0m \u001b[0;34m**\u001b[0m\u001b[0mself\u001b[0m\u001b[0;34m.\u001b[0m\u001b[0moptions\u001b[0m\u001b[0;34m)\u001b[0m\u001b[0;34m\u001b[0m\u001b[0;34m\u001b[0m\u001b[0m\n\u001b[0m\u001b[1;32m   1115\u001b[0m         \u001b[0;32melse\u001b[0m\u001b[0;34m:\u001b[0m\u001b[0;34m\u001b[0m\u001b[0;34m\u001b[0m\u001b[0m\n\u001b[1;32m   1116\u001b[0m             \u001b[0;32mif\u001b[0m \u001b[0mengine\u001b[0m \u001b[0;34m==\u001b[0m \u001b[0;34m\"python\"\u001b[0m\u001b[0;34m:\u001b[0m\u001b[0;34m\u001b[0m\u001b[0;34m\u001b[0m\u001b[0m\n",
      "\u001b[0;32m/opt/tljh/user/lib/python3.8/site-packages/pandas/io/parsers.py\u001b[0m in \u001b[0;36m__init__\u001b[0;34m(self, src, **kwds)\u001b[0m\n\u001b[1;32m   1889\u001b[0m         \u001b[0mkwds\u001b[0m\u001b[0;34m[\u001b[0m\u001b[0;34m\"usecols\"\u001b[0m\u001b[0;34m]\u001b[0m \u001b[0;34m=\u001b[0m \u001b[0mself\u001b[0m\u001b[0;34m.\u001b[0m\u001b[0musecols\u001b[0m\u001b[0;34m\u001b[0m\u001b[0;34m\u001b[0m\u001b[0m\n\u001b[1;32m   1890\u001b[0m \u001b[0;34m\u001b[0m\u001b[0m\n\u001b[0;32m-> 1891\u001b[0;31m         \u001b[0mself\u001b[0m\u001b[0;34m.\u001b[0m\u001b[0m_reader\u001b[0m \u001b[0;34m=\u001b[0m \u001b[0mparsers\u001b[0m\u001b[0;34m.\u001b[0m\u001b[0mTextReader\u001b[0m\u001b[0;34m(\u001b[0m\u001b[0msrc\u001b[0m\u001b[0;34m,\u001b[0m \u001b[0;34m**\u001b[0m\u001b[0mkwds\u001b[0m\u001b[0;34m)\u001b[0m\u001b[0;34m\u001b[0m\u001b[0;34m\u001b[0m\u001b[0m\n\u001b[0m\u001b[1;32m   1892\u001b[0m         \u001b[0mself\u001b[0m\u001b[0;34m.\u001b[0m\u001b[0munnamed_cols\u001b[0m \u001b[0;34m=\u001b[0m \u001b[0mself\u001b[0m\u001b[0;34m.\u001b[0m\u001b[0m_reader\u001b[0m\u001b[0;34m.\u001b[0m\u001b[0munnamed_cols\u001b[0m\u001b[0;34m\u001b[0m\u001b[0;34m\u001b[0m\u001b[0m\n\u001b[1;32m   1893\u001b[0m \u001b[0;34m\u001b[0m\u001b[0m\n",
      "\u001b[0;32mpandas/_libs/parsers.pyx\u001b[0m in \u001b[0;36mpandas._libs.parsers.TextReader.__cinit__\u001b[0;34m()\u001b[0m\n",
      "\u001b[0;32mpandas/_libs/parsers.pyx\u001b[0m in \u001b[0;36mpandas._libs.parsers.TextReader._setup_parser_source\u001b[0;34m()\u001b[0m\n",
      "\u001b[0;31mFileNotFoundError\u001b[0m: [Errno 2] File facilities.csv does not exist: 'facilities.csv'"
     ]
    }
   ],
   "source": [
    "facilities = pd.read_csv(\"facilities.csv\")\n",
    "facilities.head(5)"
   ]
  },
  {
   "cell_type": "code",
   "execution_count": 6,
   "metadata": {},
   "outputs": [
    {
     "data": {
      "text/plain": [
       "(407, 21)"
      ]
     },
     "execution_count": 6,
     "metadata": {},
     "output_type": "execute_result"
    }
   ],
   "source": [
    "facilities.shape"
   ]
  },
  {
   "cell_type": "code",
   "execution_count": 7,
   "metadata": {},
   "outputs": [
    {
     "data": {
      "text/plain": [
       "{'Allegheny Center': 0,\n",
       " 'Allegheny West': 0,\n",
       " 'Allentown': 0,\n",
       " 'Banksville': 0,\n",
       " 'Bedford Dwellings': 0,\n",
       " 'Beechview': 0,\n",
       " 'Beltzhoover': 0,\n",
       " 'Bloomfield': 0,\n",
       " 'Bluff': 0,\n",
       " 'Bon Air': 0,\n",
       " 'Brighton Heights': 0,\n",
       " 'Brookline': 0,\n",
       " 'California-Kirkbride': 0,\n",
       " 'Carrick': 0,\n",
       " 'Central Business District': 0,\n",
       " 'Central Lawrenceville': 0,\n",
       " 'Central Northside': 0,\n",
       " 'Central Oakland': 0,\n",
       " 'Chateau': 0,\n",
       " 'Crafton Heights': 0,\n",
       " 'Crawford-Roberts': 0,\n",
       " 'Duquesne Heights': 0,\n",
       " 'East Allegheny': 0,\n",
       " 'East Hills': 0,\n",
       " 'East Liberty': 0,\n",
       " 'Elliott': 0,\n",
       " 'Fairywood': 0,\n",
       " 'Fineview': 0,\n",
       " 'Garfield': 0,\n",
       " 'Glen Hazel': 0,\n",
       " 'Greenfield': 0,\n",
       " 'Hays': 0,\n",
       " 'Hazelwood': 0,\n",
       " 'Highland Park': 0,\n",
       " 'Homewood North': 0,\n",
       " 'Homewood South': 0,\n",
       " 'Homewood West': 0,\n",
       " 'Knoxville': 0,\n",
       " 'Larimer': 0,\n",
       " 'Lincoln-Lemington-Belmar': 0,\n",
       " 'Lincoln Place': 0,\n",
       " 'Lower Lawrenceville': 0,\n",
       " 'Manchester': 0,\n",
       " 'Marshall-Shadeland': 0,\n",
       " 'Middle Hill': 0,\n",
       " 'Morningside': 0,\n",
       " 'Mount Washington': 0,\n",
       " 'North Oakland': 0,\n",
       " 'Oakwood': 0,\n",
       " 'Overbrook': 0,\n",
       " 'Perry North': 0,\n",
       " 'Perry South': 0,\n",
       " 'Point Breeze': 0,\n",
       " 'Point Breeze North': 0,\n",
       " 'Polish Hill': 0,\n",
       " 'Regent Square': 0,\n",
       " 'Shadyside': 0,\n",
       " 'Sheraden': 0,\n",
       " 'South Oakland': 0,\n",
       " 'South Side Flats': 0,\n",
       " 'South Side Slopes': 0,\n",
       " 'Spring Hill-City View': 0,\n",
       " 'Squirrel Hill North': 0,\n",
       " 'Squirrel Hill South': 0,\n",
       " 'Stanton Heights': 0,\n",
       " 'Strip District': 0,\n",
       " 'Swisshelm Park': 0,\n",
       " 'Terrace Village': 0,\n",
       " 'Troy Hill': 0,\n",
       " 'Upper Hill': 0,\n",
       " 'Upper Lawrenceville': 0,\n",
       " 'West End': 0,\n",
       " 'West Oakland': 0,\n",
       " 'Westwood': 0,\n",
       " 'Windgap': 0,\n",
       " nan: 0}"
      ]
     },
     "execution_count": 7,
     "metadata": {},
     "output_type": "execute_result"
    }
   ],
   "source": [
    "# All the neighborhoods in the dataset\n",
    "neighborhoods = facilities['neighborhood'].unique()\n",
    "\n",
    "neighborhood_dict = dict.fromkeys(neighborhoods, 0)\n",
    "neighborhood_dict"
   ]
  },
  {
   "cell_type": "code",
   "execution_count": 8,
   "metadata": {},
   "outputs": [
    {
     "data": {
      "text/plain": [
       "{'Highland Park': 100,\n",
       " 'Squirrel Hill South': 96,\n",
       " 'Perry North': 66,\n",
       " 'Brookline': 63,\n",
       " 'Strip District': 50,\n",
       " 'Hazelwood': 46,\n",
       " 'Brighton Heights': 46,\n",
       " 'Carrick': 40,\n",
       " 'Lincoln-Lemington-Belmar': 36,\n",
       " 'Elliott': 36,\n",
       " 'South Side Slopes': 36,\n",
       " 'Morningside': 33,\n",
       " 'Shadyside': 30,\n",
       " 'Central Business District': 26,\n",
       " 'Point Breeze': 26,\n",
       " 'Beltzhoover': 23,\n",
       " 'Banksville': 23,\n",
       " 'Mount Washington': 23,\n",
       " 'Lower Lawrenceville': 23,\n",
       " 'Sheraden': 23,\n",
       " 'Beechview': 20,\n",
       " 'Spring Hill-City View': 20,\n",
       " 'Bloomfield': 20,\n",
       " 'Bedford Dwellings': 20,\n",
       " 'Homewood West': 20,\n",
       " 'South Side Flats': 16,\n",
       " 'Lincoln Place': 16,\n",
       " 'Squirrel Hill North': 13,\n",
       " 'Greenfield': 13,\n",
       " 'Allegheny Center': 13,\n",
       " 'Garfield': 13,\n",
       " 'Westwood': 13,\n",
       " 'Polish Hill': 13,\n",
       " 'Regent Square': 13,\n",
       " 'Knoxville': 13,\n",
       " 'Windgap': 10,\n",
       " 'Troy Hill': 10,\n",
       " 'Marshall-Shadeland': 10,\n",
       " 'Crawford-Roberts': 10,\n",
       " 'Bluff': 10,\n",
       " 'Allentown': 10,\n",
       " 'Central Lawrenceville': 10,\n",
       " 'Terrace Village': 10,\n",
       " 'Homewood South': 10,\n",
       " 'North Oakland': 10,\n",
       " 'Manchester': 10,\n",
       " 'East Liberty': 10,\n",
       " 'Oakwood': 10,\n",
       " 'Allegheny West': 10,\n",
       " 'East Hills': 10,\n",
       " 'Hays': 6,\n",
       " 'South Oakland': 6,\n",
       " 'West End': 6,\n",
       " 'Upper Hill': 6,\n",
       " 'Duquesne Heights': 6,\n",
       " 'Overbrook': 6,\n",
       " 'Perry South': 6,\n",
       " 'Chateau': 6,\n",
       " 'Fairywood': 3,\n",
       " 'Larimer': 3,\n",
       " 'Point Breeze North': 3,\n",
       " 'Homewood North': 3,\n",
       " 'West Oakland': 3,\n",
       " 'Bon Air': 3,\n",
       " 'Central Northside': 3,\n",
       " 'Swisshelm Park': 3,\n",
       " 'California-Kirkbride': 3,\n",
       " 'Central Oakland': 3,\n",
       " 'Fineview': 3,\n",
       " 'Crafton Heights': 3,\n",
       " 'Middle Hill': 3,\n",
       " 'Glen Hazel': 3,\n",
       " 'East Allegheny': 3,\n",
       " 'Upper Lawrenceville': 3,\n",
       " 'Stanton Heights': 3}"
      ]
     },
     "execution_count": 8,
     "metadata": {},
     "output_type": "execute_result"
    }
   ],
   "source": [
    "neighborhood_dict = facilities['neighborhood'].value_counts()\n",
    "# creating scoring system by dividing every count by max\n",
    "max = neighborhood_dict.max()\n",
    "scores = {} \n",
    "for key, value in neighborhood_dict.items():\n",
    "    scores[key] = int((value / max) * 100)\n",
    "\n",
    "scores"
   ]
  },
  {
   "cell_type": "code",
   "execution_count": 9,
   "metadata": {},
   "outputs": [],
   "source": [
    "import pickle\n",
    "pickle.dump(scores, open(\"city_facilities_results.pkl\", \"wb\"))"
   ]
  }
 ],
 "metadata": {
  "kernelspec": {
   "display_name": "Python 3",
   "language": "python",
   "name": "python3"
  },
  "language_info": {
   "codemirror_mode": {
    "name": "ipython",
    "version": 3
   },
   "file_extension": ".py",
   "mimetype": "text/x-python",
   "name": "python",
   "nbconvert_exporter": "python",
   "pygments_lexer": "ipython3",
   "version": "3.8.3"
  }
 },
 "nbformat": 4,
 "nbformat_minor": 4
}
