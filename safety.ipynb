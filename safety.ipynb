{
 "cells": [
  {
   "cell_type": "code",
   "execution_count": 2,
   "metadata": {},
   "outputs": [
    {
     "name": "stdout",
     "output_type": "stream",
     "text": [
      "{'Northview Heights': 26, 'Strip District': 35, 'Carrick': 112, 'Lincoln-Lemington-Belmar': 66, 'Central Business District': 211, 'East Liberty': 82, 'South Side Slopes': 74, 'Homewood South': 84, 'Brighton Heights': 58, 'Middle Hill': 33, 'Perry North': 33, 'South Side Flats': 125, 'Fineview': 17, 'Central Lawrenceville': 36, 'Homewood North': 75, 'Crafton Heights': 35, 'Bloomfield': 47, 'Marshall-Shadeland': 48, 'Allegheny Center': 29, 'Crawford-Roberts': 26, 'Brookline': 53, 'Garfield': 25, 'East Hills': 33, 'Westwood': 24, 'Squirrel Hill South': 72, 'Windgap': 13, 'North Oakland': 47, 'Banksville': 17, 'Perry South': 55, 'Allentown': 36, 'Morningside': 17, 'Beechview': 54, 'East Allegheny': 58, 'Spring Garden': 10, 'North Shore': 20, 'Central North Side': 31, 'West End': 11, 'Outside City': 16, 'South Oakland': 28, 'Bon Air': 9, 'Greenfield': 37, 'Hazelwood': 52, 'Troy Hill': 24, 'Bluff': 63, 'Manchester': 22, 'Shadyside': 56, 'Highland Park': 37, 'Swisshelm Park': 4, 'Lower Lawrenceville': 19, 'Knoxville': 46, 'Central Oakland': 38, 'Summer Hill': 14, 'Polish Hill': 8, 'South Shore': 13, 'East Carnegie': 4, 'Spring Hill-City View': 25, 'West Oakland': 16, 'Duquesne Heights': 19, 'Fairywood': 14, 'Mount Washington': 60, 'Larimer': 45, 'Point Breeze North': 28, 'Elliott': 34, 'Point Breeze': 24, 'Homewood West': 25, 'Upper Lawrenceville': 20, 'Sheraden': 69, 'Allegheny West': 7, 'Lincoln Place': 11, 'Bedford Dwellings': 20, 'Arlington': 21, 'Glen Hazel': 5, 'Outside State': 8, 'Terrace Village': 14, 'Esplen': 8, 'Stanton Heights': 11, 'Squirrel Hill North': 28, 'California-Kirkbride': 19, 'Overbrook': 19, 'Arlington Heights': 6, nan: 36, 'Friendship': 15, 'Mount Oliver': 4, 'Chateau': 23, 'Beltzhoover': 14, 'Upper Hill': 12, 'Chartiers City': 5, 'St. Clair': 1, 'Hays': 4, 'Outside County': 2, 'Ridgemont': 3, 'Oakwood': 2, 'Regent Square': 3, 'Mt. Oliver Boro': 2, 'New Homestead': 1}\n"
     ]
    }
   ],
   "source": [
    "# print the total number of crime in each neighborhood\n",
    "import pandas as pd\n",
    "import pickle\n",
    "%matplotlib inline\n",
    "\n",
    "crime_rate = pd.read_csv(\"Data/crime_rates.csv\")\n",
    "crime_rate_dict = {}\n",
    "for key, value in crime_rate.iterrows():\n",
    "    if value['INCIDENTNEIGHBORHOOD'] in crime_rate_dict.keys():\n",
    "        crime_rate_dict[value['INCIDENTNEIGHBORHOOD']] += 1\n",
    "    else:\n",
    "        crime_rate_dict[value['INCIDENTNEIGHBORHOOD']] = 1\n",
    "print(crime_rate_dict)  \n",
    "\n"
   ]
  },
  {
   "cell_type": "code",
   "execution_count": 3,
   "metadata": {},
   "outputs": [
    {
     "name": "stdout",
     "output_type": "stream",
     "text": [
      "Sorted Total Crimes Dictionary: \n",
      "{'St. Clair': 1, 'New Homestead': 1, 'Outside County': 2, 'Oakwood': 2, 'Mt. Oliver Boro': 2, 'Ridgemont': 3, 'Regent Square': 3, 'Swisshelm Park': 4, 'East Carnegie': 4, 'Mount Oliver': 4, 'Hays': 4, 'Glen Hazel': 5, 'Chartiers City': 5, 'Arlington Heights': 6, 'Allegheny West': 7, 'Polish Hill': 8, 'Outside State': 8, 'Esplen': 8, 'Bon Air': 9, 'Spring Garden': 10, 'West End': 11, 'Lincoln Place': 11, 'Stanton Heights': 11, 'Upper Hill': 12, 'Windgap': 13, 'South Shore': 13, 'Summer Hill': 14, 'Fairywood': 14, 'Terrace Village': 14, 'Beltzhoover': 14, 'Friendship': 15, 'Outside City': 16, 'West Oakland': 16, 'Fineview': 17, 'Banksville': 17, 'Morningside': 17, 'Lower Lawrenceville': 19, 'Duquesne Heights': 19, 'California-Kirkbride': 19, 'Overbrook': 19, 'North Shore': 20, 'Upper Lawrenceville': 20, 'Bedford Dwellings': 20, 'Arlington': 21, 'Manchester': 22, 'Chateau': 23, 'Westwood': 24, 'Troy Hill': 24, 'Point Breeze': 24, 'Garfield': 25, 'Spring Hill-City View': 25, 'Homewood West': 25, 'Northview Heights': 26, 'Crawford-Roberts': 26, 'South Oakland': 28, 'Point Breeze North': 28, 'Squirrel Hill North': 28, 'Allegheny Center': 29, 'Central North Side': 31, 'Middle Hill': 33, 'Perry North': 33, 'East Hills': 33, 'Elliott': 34, 'Strip District': 35, 'Crafton Heights': 35, 'Central Lawrenceville': 36, 'Allentown': 36, nan: 36, 'Greenfield': 37, 'Highland Park': 37, 'Central Oakland': 38, 'Larimer': 45, 'Knoxville': 46, 'Bloomfield': 47, 'North Oakland': 47, 'Marshall-Shadeland': 48, 'Hazelwood': 52, 'Brookline': 53, 'Beechview': 54, 'Perry South': 55, 'Shadyside': 56, 'Brighton Heights': 58, 'East Allegheny': 58, 'Mount Washington': 60, 'Bluff': 63, 'Lincoln-Lemington-Belmar': 66, 'Sheraden': 69, 'Squirrel Hill South': 72, 'South Side Slopes': 74, 'Homewood North': 75, 'East Liberty': 82, 'Homewood South': 84, 'Carrick': 112, 'South Side Flats': 125, 'Central Business District': 211}\n"
     ]
    }
   ],
   "source": [
    "#sort the values of total number of crimes in ascending order\n",
    "\n",
    "\n",
    "crime_rate = pd.read_csv(\"Data/crime_rates.csv\")\n",
    "crime_rate_dict = {}\n",
    "for key, value in crime_rate.iterrows():\n",
    "    if value['INCIDENTNEIGHBORHOOD'] in crime_rate_dict.keys():\n",
    "        crime_rate_dict[value['INCIDENTNEIGHBORHOOD']] += 1\n",
    "    else:\n",
    "        crime_rate_dict[value['INCIDENTNEIGHBORHOOD']] = 1\n",
    "\n",
    "sorted_dict = dict( sorted(crime_rate_dict.items(),\n",
    "                           key=lambda item: item[1],\n",
    "                           reverse=False))\n",
    "print('Sorted Total Crimes Dictionary: ')\n",
    "print(sorted_dict)"
   ]
  },
  {
   "cell_type": "code",
   "execution_count": 4,
   "metadata": {},
   "outputs": [
    {
     "name": "stdout",
     "output_type": "stream",
     "text": [
      "{'Northview Heights': 3.85, 'Strip District': 2.86, 'Carrick': 0.89, 'Lincoln-Lemington-Belmar': 1.52, 'Central Business District': 0.47, 'East Liberty': 1.22, 'South Side Slopes': 1.35, 'Homewood South': 1.19, 'Brighton Heights': 1.72, 'Middle Hill': 3.03, 'Perry North': 3.03, 'South Side Flats': 0.8, 'Fineview': 5.88, 'Central Lawrenceville': 2.78, 'Homewood North': 1.33, 'Crafton Heights': 2.86, 'Bloomfield': 2.13, 'Marshall-Shadeland': 2.08, 'Allegheny Center': 3.45, 'Crawford-Roberts': 3.85, 'Brookline': 1.89, 'Garfield': 4.0, 'East Hills': 3.03, 'Westwood': 4.17, 'Squirrel Hill South': 1.39, 'Windgap': 7.69, 'North Oakland': 2.13, 'Banksville': 5.88, 'Perry South': 1.82, 'Allentown': 2.78, 'Morningside': 5.88, 'Beechview': 1.85, 'East Allegheny': 1.72, 'Spring Garden': 10.0, 'North Shore': 5.0, 'Central North Side': 3.23, 'West End': 9.09, 'Outside City': 6.25, 'South Oakland': 3.57, 'Bon Air': 11.11, 'Greenfield': 2.7, 'Hazelwood': 1.92, 'Troy Hill': 4.17, 'Bluff': 1.59, 'Manchester': 4.55, 'Shadyside': 1.79, 'Highland Park': 2.7, 'Swisshelm Park': 25.0, 'Lower Lawrenceville': 5.26, 'Knoxville': 2.17, 'Central Oakland': 2.63, 'Summer Hill': 7.14, 'Polish Hill': 12.5, 'South Shore': 7.69, 'East Carnegie': 25.0, 'Spring Hill-City View': 4.0, 'West Oakland': 6.25, 'Duquesne Heights': 5.26, 'Fairywood': 7.14, 'Mount Washington': 1.67, 'Larimer': 2.22, 'Point Breeze North': 3.57, 'Elliott': 2.94, 'Point Breeze': 4.17, 'Homewood West': 4.0, 'Upper Lawrenceville': 5.0, 'Sheraden': 1.45, 'Allegheny West': 14.29, 'Lincoln Place': 9.09, 'Bedford Dwellings': 5.0, 'Arlington': 4.76, 'Glen Hazel': 20.0, 'Outside State': 12.5, 'Terrace Village': 7.14, 'Esplen': 12.5, 'Stanton Heights': 9.09, 'Squirrel Hill North': 3.57, 'California-Kirkbride': 5.26, 'Overbrook': 5.26, 'Arlington Heights': 16.67, nan: 2.78, 'Friendship': 6.67, 'Mount Oliver': 25.0, 'Chateau': 4.35, 'Beltzhoover': 7.14, 'Upper Hill': 8.33, 'Chartiers City': 20.0, 'St. Clair': 100.0, 'Hays': 25.0, 'Outside County': 50.0, 'Ridgemont': 33.33, 'Oakwood': 50.0, 'Regent Square': 33.33, 'Mt. Oliver Boro': 50.0, 'New Homestead': 100.0}\n"
     ]
    }
   ],
   "source": [
    "#find the safety rate in each neighborhood\n",
    "#I took 1(lowest number of crimes) and divided it by the number of crimes in each neighborhood \n",
    "# the higher the safety rate, the safer the neighborhood\n",
    "crime_rate = pd.read_csv(\"Data/crime_rates.csv\")\n",
    "crime_rate_dict = {}\n",
    "for key, value in crime_rate.iterrows():\n",
    "    if value['INCIDENTNEIGHBORHOOD'] in crime_rate_dict.keys():\n",
    "        crime_rate_dict[value['INCIDENTNEIGHBORHOOD']] += 1\n",
    "    else:\n",
    "        crime_rate_dict[value['INCIDENTNEIGHBORHOOD']] = 1\n",
    "for metric in crime_rate_dict.keys():\n",
    "    crime_rate_dict[metric] = (1/crime_rate_dict[metric]) * 100\n",
    "    crime_rate_dict[metric] = float(round(crime_rate_dict[metric], 2))\n",
    "    \n",
    "print(crime_rate_dict)  "
   ]
  },
  {
   "cell_type": "code",
   "execution_count": 5,
   "metadata": {},
   "outputs": [
    {
     "name": "stdout",
     "output_type": "stream",
     "text": [
      "Sorted Safety Rate Dictionary: \n",
      "{'Central Business District': 0.47, 'South Side Flats': 0.8, 'Carrick': 0.89, 'Homewood South': 1.19, 'East Liberty': 1.22, 'Homewood North': 1.33, 'South Side Slopes': 1.35, 'Squirrel Hill South': 1.39, 'Sheraden': 1.45, 'Lincoln-Lemington-Belmar': 1.52, 'Bluff': 1.59, 'Mount Washington': 1.67, 'Brighton Heights': 1.72, 'East Allegheny': 1.72, 'Shadyside': 1.79, 'Perry South': 1.82, 'Beechview': 1.85, 'Brookline': 1.89, 'Hazelwood': 1.92, 'Marshall-Shadeland': 2.08, 'Bloomfield': 2.13, 'North Oakland': 2.13, 'Knoxville': 2.17, 'Larimer': 2.22, 'Central Oakland': 2.63, 'Greenfield': 2.7, 'Highland Park': 2.7, 'Central Lawrenceville': 2.78, 'Allentown': 2.78, nan: 2.78, 'Strip District': 2.86, 'Crafton Heights': 2.86, 'Elliott': 2.94, 'Middle Hill': 3.03, 'Perry North': 3.03, 'East Hills': 3.03, 'Central North Side': 3.23, 'Allegheny Center': 3.45, 'South Oakland': 3.57, 'Point Breeze North': 3.57, 'Squirrel Hill North': 3.57, 'Northview Heights': 3.85, 'Crawford-Roberts': 3.85, 'Garfield': 4.0, 'Spring Hill-City View': 4.0, 'Homewood West': 4.0, 'Westwood': 4.17, 'Troy Hill': 4.17, 'Point Breeze': 4.17, 'Chateau': 4.35, 'Manchester': 4.55, 'Arlington': 4.76, 'North Shore': 5.0, 'Upper Lawrenceville': 5.0, 'Bedford Dwellings': 5.0, 'Lower Lawrenceville': 5.26, 'Duquesne Heights': 5.26, 'California-Kirkbride': 5.26, 'Overbrook': 5.26, 'Fineview': 5.88, 'Banksville': 5.88, 'Morningside': 5.88, 'Outside City': 6.25, 'West Oakland': 6.25, 'Friendship': 6.67, 'Summer Hill': 7.14, 'Fairywood': 7.14, 'Terrace Village': 7.14, 'Beltzhoover': 7.14, 'Windgap': 7.69, 'South Shore': 7.69, 'Upper Hill': 8.33, 'West End': 9.09, 'Lincoln Place': 9.09, 'Stanton Heights': 9.09, 'Spring Garden': 10.0, 'Bon Air': 11.11, 'Polish Hill': 12.5, 'Outside State': 12.5, 'Esplen': 12.5, 'Allegheny West': 14.29, 'Arlington Heights': 16.67, 'Glen Hazel': 20.0, 'Chartiers City': 20.0, 'Swisshelm Park': 25.0, 'East Carnegie': 25.0, 'Mount Oliver': 25.0, 'Hays': 25.0, 'Ridgemont': 33.33, 'Regent Square': 33.33, 'Outside County': 50.0, 'Oakwood': 50.0, 'Mt. Oliver Boro': 50.0, 'St. Clair': 100.0, 'New Homestead': 100.0}\n"
     ]
    }
   ],
   "source": [
    "# Rearranged the safety rate in ascending order\n",
    "crime_rate = pd.read_csv(\"Data/crime_rates.csv\")\n",
    "crime_rate_dict = {}\n",
    "for key, value in crime_rate.iterrows():\n",
    "    if value['INCIDENTNEIGHBORHOOD'] in crime_rate_dict.keys():\n",
    "        crime_rate_dict[value['INCIDENTNEIGHBORHOOD']] += 1\n",
    "    else:\n",
    "        crime_rate_dict[value['INCIDENTNEIGHBORHOOD']] = 1\n",
    "for metric in crime_rate_dict.keys():\n",
    "    crime_rate_dict[metric] = (1/crime_rate_dict[metric]) * 100\n",
    "    crime_rate_dict[metric] = float(round(crime_rate_dict[metric], 2))\n",
    "sorted_dict = dict( sorted(crime_rate_dict.items(),\n",
    "                           key=lambda item: item[1],\n",
    "                           reverse=False))\n",
    "print('Sorted Safety Rate Dictionary: ')\n",
    "print(sorted_dict)"
   ]
  },
  {
   "cell_type": "code",
   "execution_count": 9,
   "metadata": {},
   "outputs": [
    {
     "data": {
      "text/html": [
       "<div>\n",
       "<style scoped>\n",
       "    .dataframe tbody tr th:only-of-type {\n",
       "        vertical-align: middle;\n",
       "    }\n",
       "\n",
       "    .dataframe tbody tr th {\n",
       "        vertical-align: top;\n",
       "    }\n",
       "\n",
       "    .dataframe thead th {\n",
       "        text-align: right;\n",
       "    }\n",
       "</style>\n",
       "<table border=\"1\" class=\"dataframe\">\n",
       "  <thead>\n",
       "    <tr style=\"text-align: right;\">\n",
       "      <th></th>\n",
       "      <th>Total Crimes</th>\n",
       "      <th>Safety Rate</th>\n",
       "      <th>Hierachy</th>\n",
       "    </tr>\n",
       "  </thead>\n",
       "  <tbody>\n",
       "    <tr>\n",
       "      <th>St. Clair</th>\n",
       "      <td>1</td>\n",
       "      <td>100</td>\n",
       "      <td>27</td>\n",
       "    </tr>\n",
       "    <tr>\n",
       "      <th>New Homestead</th>\n",
       "      <td>1</td>\n",
       "      <td>100</td>\n",
       "      <td>11</td>\n",
       "    </tr>\n",
       "    <tr>\n",
       "      <th>Outside County</th>\n",
       "      <td>2</td>\n",
       "      <td>50</td>\n",
       "      <td>9</td>\n",
       "    </tr>\n",
       "    <tr>\n",
       "      <th>Oakwood</th>\n",
       "      <td>2</td>\n",
       "      <td>50</td>\n",
       "      <td>99</td>\n",
       "    </tr>\n",
       "    <tr>\n",
       "      <th>Mt. Oliver Boro</th>\n",
       "      <td>2</td>\n",
       "      <td>50</td>\n",
       "      <td>27</td>\n",
       "    </tr>\n",
       "  </tbody>\n",
       "</table>\n",
       "</div>"
      ],
      "text/plain": [
       "                Total Crimes  Safety Rate  Hierachy\n",
       "St. Clair                  1          100        27\n",
       "New Homestead              1          100        11\n",
       "Outside County             2           50         9\n",
       "Oakwood                    2           50        99\n",
       "Mt. Oliver Boro            2           50        27"
      ]
     },
     "execution_count": 9,
     "metadata": {},
     "output_type": "execute_result"
    }
   ],
   "source": [
    "#top 5 safest neighborhoods\n",
    "\n",
    "crimeRate = {'Total Crimes': ['1', '1', '2', '2', '2'], \n",
    "        'Safety Rate': [100, 100, 50, 50, 50], \n",
    "        'Hierachy': [27, 11, 9, 99, 27]}\n",
    "df = pd.DataFrame(crimeRate, index = ['St. Clair', 'New Homestead', 'Outside County', 'Oakwood', 'Mt. Oliver Boro'])\n",
    "df"
   ]
  },
  {
   "cell_type": "code",
   "execution_count": 11,
   "metadata": {},
   "outputs": [
    {
     "data": {
      "text/html": [
       "<div>\n",
       "<style scoped>\n",
       "    .dataframe tbody tr th:only-of-type {\n",
       "        vertical-align: middle;\n",
       "    }\n",
       "\n",
       "    .dataframe tbody tr th {\n",
       "        vertical-align: top;\n",
       "    }\n",
       "\n",
       "    .dataframe thead th {\n",
       "        text-align: right;\n",
       "    }\n",
       "</style>\n",
       "<table border=\"1\" class=\"dataframe\">\n",
       "  <thead>\n",
       "    <tr style=\"text-align: right;\">\n",
       "      <th></th>\n",
       "      <th>Total Crimes</th>\n",
       "      <th>Safety Rate</th>\n",
       "      <th>Hierachy</th>\n",
       "    </tr>\n",
       "  </thead>\n",
       "  <tbody>\n",
       "    <tr>\n",
       "      <th>Central Business District</th>\n",
       "      <td>211</td>\n",
       "      <td>0.47</td>\n",
       "      <td>99</td>\n",
       "    </tr>\n",
       "    <tr>\n",
       "      <th>South Side Flats</th>\n",
       "      <td>125</td>\n",
       "      <td>0.80</td>\n",
       "      <td>99</td>\n",
       "    </tr>\n",
       "    <tr>\n",
       "      <th>Carrick</th>\n",
       "      <td>112</td>\n",
       "      <td>0.89</td>\n",
       "      <td>99</td>\n",
       "    </tr>\n",
       "    <tr>\n",
       "      <th>Homewood South</th>\n",
       "      <td>84</td>\n",
       "      <td>1.19</td>\n",
       "      <td>99</td>\n",
       "    </tr>\n",
       "    <tr>\n",
       "      <th>East Liberty</th>\n",
       "      <td>82</td>\n",
       "      <td>1.22</td>\n",
       "      <td>99</td>\n",
       "    </tr>\n",
       "  </tbody>\n",
       "</table>\n",
       "</div>"
      ],
      "text/plain": [
       "                          Total Crimes  Safety Rate  Hierachy\n",
       "Central Business District          211         0.47        99\n",
       "South Side Flats                   125         0.80        99\n",
       "Carrick                            112         0.89        99\n",
       "Homewood South                      84         1.19        99\n",
       "East Liberty                        82         1.22        99"
      ]
     },
     "execution_count": 11,
     "metadata": {},
     "output_type": "execute_result"
    }
   ],
   "source": [
    "#top 5 worst neighborhoods\n",
    "crimeRate = {'Total Crimes': ['211', '125', '112', '84', '82'], \n",
    "        'Safety Rate': [0.47, 0.8, 0.89, 1.19, 1.22], \n",
    "        'Hierachy': [99, 99, 99, 99, 99]}\n",
    "df = pd.DataFrame(crimeRate, index = ['Central Business District', 'South Side Flats', 'Carrick', 'Homewood South', 'East Liberty'])\n",
    "\n",
    "df"
   ]
  },
  {
   "cell_type": "code",
   "execution_count": 13,
   "metadata": {},
   "outputs": [],
   "source": [
    "import pickle\n",
    "pickle.dump(crime_rate_dict, open(\"crime_rate_results.pk1\", \"wb\"))"
   ]
  },
  {
   "cell_type": "code",
   "execution_count": null,
   "metadata": {},
   "outputs": [],
   "source": []
  }
 ],
 "metadata": {
  "kernelspec": {
   "display_name": "Python 3",
   "language": "python",
   "name": "python3"
  },
  "language_info": {
   "codemirror_mode": {
    "name": "ipython",
    "version": 3
   },
   "file_extension": ".py",
   "mimetype": "text/x-python",
   "name": "python",
   "nbconvert_exporter": "python",
   "pygments_lexer": "ipython3",
   "version": "3.8.3"
  }
 },
 "nbformat": 4,
 "nbformat_minor": 4
}
