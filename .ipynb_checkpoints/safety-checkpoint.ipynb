{
 "cells": [
  {
   "cell_type": "code",
   "execution_count": 46,
   "metadata": {},
   "outputs": [
    {
     "data": {
      "text/plain": [
       "St. Clair                      1\n",
       "New Homestead                  1\n",
       "Oakwood                        2\n",
       "Outside County                 2\n",
       "Mt. Oliver Boro                2\n",
       "                            ... \n",
       "East Liberty                  82\n",
       "Homewood South                84\n",
       "Carrick                      112\n",
       "South Side Flats             125\n",
       "Central Business District    211\n",
       "Name: INCIDENTNEIGHBORHOOD, Length: 94, dtype: int64"
      ]
     },
     "execution_count": 46,
     "metadata": {},
     "output_type": "execute_result"
    }
   ],
   "source": [
    "# print the total number of crime in each neighborhood\n",
    "import pandas as pd\n",
    "import pickle\n",
    "import matplotlib.pyplot as plt\n",
    "crime = pd.read_csv(\"Data/crime_rates.csv\")\n",
    "\n",
    "\n",
    "\n",
    "crime['INCIDENTNEIGHBORHOOD'].value_counts().sort_values(ascending=True)\n"
   ]
  },
  {
   "cell_type": "code",
   "execution_count": 42,
   "metadata": {},
   "outputs": [
    {
     "data": {
      "text/html": [
       "<div>\n",
       "<style scoped>\n",
       "    .dataframe tbody tr th:only-of-type {\n",
       "        vertical-align: middle;\n",
       "    }\n",
       "\n",
       "    .dataframe tbody tr th {\n",
       "        vertical-align: top;\n",
       "    }\n",
       "\n",
       "    .dataframe thead th {\n",
       "        text-align: right;\n",
       "    }\n",
       "</style>\n",
       "<table border=\"1\" class=\"dataframe\">\n",
       "  <thead>\n",
       "    <tr style=\"text-align: right;\">\n",
       "      <th></th>\n",
       "      <th>INCIDENTNEIGHBORHOOD</th>\n",
       "    </tr>\n",
       "  </thead>\n",
       "  <tbody>\n",
       "    <tr>\n",
       "      <th>count</th>\n",
       "      <td>2965</td>\n",
       "    </tr>\n",
       "    <tr>\n",
       "      <th>unique</th>\n",
       "      <td>94</td>\n",
       "    </tr>\n",
       "    <tr>\n",
       "      <th>top</th>\n",
       "      <td>Central Business District</td>\n",
       "    </tr>\n",
       "    <tr>\n",
       "      <th>freq</th>\n",
       "      <td>211</td>\n",
       "    </tr>\n",
       "  </tbody>\n",
       "</table>\n",
       "</div>"
      ],
      "text/plain": [
       "             INCIDENTNEIGHBORHOOD\n",
       "count                        2965\n",
       "unique                         94\n",
       "top     Central Business District\n",
       "freq                          211"
      ]
     },
     "execution_count": 42,
     "metadata": {},
     "output_type": "execute_result"
    }
   ],
   "source": [
    "# brief summary of neighborhoods in pittsburgh \n",
    "crime[['INCIDENTNEIGHBORHOOD']].describe()"
   ]
  },
  {
   "cell_type": "code",
   "execution_count": 35,
   "metadata": {},
   "outputs": [
    {
     "data": {
      "text/plain": [
       "Central Business District      0.473934\n",
       "South Side Flats               0.800000\n",
       "Carrick                        0.892857\n",
       "Homewood South                 1.190476\n",
       "East Liberty                   1.219512\n",
       "                                ...    \n",
       "Mt. Oliver Boro               50.000000\n",
       "Oakwood                       50.000000\n",
       "Outside County                50.000000\n",
       "New Homestead                100.000000\n",
       "St. Clair                    100.000000\n",
       "Name: INCIDENTNEIGHBORHOOD, Length: 94, dtype: float64"
      ]
     },
     "execution_count": 35,
     "metadata": {},
     "output_type": "execute_result"
    }
   ],
   "source": [
    "#find the safety rate in each neighborhood\n",
    "#I took 1(lowest number of crimes) and divided it by the number of crimes in each neighborhood \n",
    "# the higher the safety rate, the safer the neighborhood\n",
    "(1 / crime['INCIDENTNEIGHBORHOOD'].value_counts()) * 100"
   ]
  },
  {
   "cell_type": "code",
   "execution_count": 3,
   "metadata": {},
   "outputs": [
    {
     "data": {
      "text/html": [
       "<div>\n",
       "<style scoped>\n",
       "    .dataframe tbody tr th:only-of-type {\n",
       "        vertical-align: middle;\n",
       "    }\n",
       "\n",
       "    .dataframe tbody tr th {\n",
       "        vertical-align: top;\n",
       "    }\n",
       "\n",
       "    .dataframe thead th {\n",
       "        text-align: right;\n",
       "    }\n",
       "</style>\n",
       "<table border=\"1\" class=\"dataframe\">\n",
       "  <thead>\n",
       "    <tr style=\"text-align: right;\">\n",
       "      <th></th>\n",
       "      <th>Total Crimes</th>\n",
       "      <th>Safety Rate</th>\n",
       "      <th>Hierachy</th>\n",
       "    </tr>\n",
       "  </thead>\n",
       "  <tbody>\n",
       "    <tr>\n",
       "      <th>St. Clair</th>\n",
       "      <td>1</td>\n",
       "      <td>100</td>\n",
       "      <td>27</td>\n",
       "    </tr>\n",
       "    <tr>\n",
       "      <th>New Homestead</th>\n",
       "      <td>1</td>\n",
       "      <td>100</td>\n",
       "      <td>11</td>\n",
       "    </tr>\n",
       "    <tr>\n",
       "      <th>Outside County</th>\n",
       "      <td>2</td>\n",
       "      <td>50</td>\n",
       "      <td>9</td>\n",
       "    </tr>\n",
       "    <tr>\n",
       "      <th>Oakwood</th>\n",
       "      <td>2</td>\n",
       "      <td>50</td>\n",
       "      <td>99</td>\n",
       "    </tr>\n",
       "    <tr>\n",
       "      <th>Mt. Oliver Boro</th>\n",
       "      <td>2</td>\n",
       "      <td>50</td>\n",
       "      <td>27</td>\n",
       "    </tr>\n",
       "  </tbody>\n",
       "</table>\n",
       "</div>"
      ],
      "text/plain": [
       "                Total Crimes  Safety Rate  Hierachy\n",
       "St. Clair                  1          100        27\n",
       "New Homestead              1          100        11\n",
       "Outside County             2           50         9\n",
       "Oakwood                    2           50        99\n",
       "Mt. Oliver Boro            2           50        27"
      ]
     },
     "execution_count": 3,
     "metadata": {},
     "output_type": "execute_result"
    }
   ],
   "source": [
    "#top 5 safest neighborhoods\n",
    "\n",
    "crimeRate = {'Total Crimes': ['1', '1', '2', '2', '2'], \n",
    "        'Safety Rate': [100, 100, 50, 50, 50], \n",
    "        'Hierachy': [27, 11, 9, 99, 27]}\n",
    "df = pd.DataFrame(crimeRate, index = ['St. Clair', 'New Homestead', 'Outside County', 'Oakwood', 'Mt. Oliver Boro'])\n",
    "df"
   ]
  },
  {
   "cell_type": "code",
   "execution_count": 35,
   "metadata": {},
   "outputs": [
    {
     "data": {
      "text/html": [
       "<div>\n",
       "<style scoped>\n",
       "    .dataframe tbody tr th:only-of-type {\n",
       "        vertical-align: middle;\n",
       "    }\n",
       "\n",
       "    .dataframe tbody tr th {\n",
       "        vertical-align: top;\n",
       "    }\n",
       "\n",
       "    .dataframe thead th {\n",
       "        text-align: right;\n",
       "    }\n",
       "</style>\n",
       "<table border=\"1\" class=\"dataframe\">\n",
       "  <thead>\n",
       "    <tr style=\"text-align: right;\">\n",
       "      <th></th>\n",
       "      <th>Total Crimes</th>\n",
       "      <th>Safety Rate</th>\n",
       "      <th>Hierachy</th>\n",
       "    </tr>\n",
       "  </thead>\n",
       "  <tbody>\n",
       "    <tr>\n",
       "      <th>Central Business District</th>\n",
       "      <td>211</td>\n",
       "      <td>0.47</td>\n",
       "      <td>99</td>\n",
       "    </tr>\n",
       "    <tr>\n",
       "      <th>South Side Flats</th>\n",
       "      <td>125</td>\n",
       "      <td>0.80</td>\n",
       "      <td>99</td>\n",
       "    </tr>\n",
       "    <tr>\n",
       "      <th>Carrick</th>\n",
       "      <td>112</td>\n",
       "      <td>0.89</td>\n",
       "      <td>99</td>\n",
       "    </tr>\n",
       "    <tr>\n",
       "      <th>Homewood South</th>\n",
       "      <td>84</td>\n",
       "      <td>1.19</td>\n",
       "      <td>99</td>\n",
       "    </tr>\n",
       "    <tr>\n",
       "      <th>East Liberty</th>\n",
       "      <td>82</td>\n",
       "      <td>1.22</td>\n",
       "      <td>99</td>\n",
       "    </tr>\n",
       "  </tbody>\n",
       "</table>\n",
       "</div>"
      ],
      "text/plain": [
       "                          Total Crimes  Safety Rate  Hierachy\n",
       "Central Business District          211         0.47        99\n",
       "South Side Flats                   125         0.80        99\n",
       "Carrick                            112         0.89        99\n",
       "Homewood South                      84         1.19        99\n",
       "East Liberty                        82         1.22        99"
      ]
     },
     "execution_count": 35,
     "metadata": {},
     "output_type": "execute_result"
    }
   ],
   "source": [
    "#top 5 worst neighborhoods\n",
    "crimeRate = {'Total Crimes': ['211', '125', '112', '84', '82'], \n",
    "        'Safety Rate': [0.47, 0.8, 0.89, 1.19, 1.22], \n",
    "        'Hierachy': [99, 99, 99, 99, 99]}\n",
    "df = pd.DataFrame(crimeRate, index = ['Central Business District', 'South Side Flats', 'Carrick', 'Homewood South', 'East Liberty'])\n",
    "\n",
    "df"
   ]
  },
  {
   "cell_type": "code",
   "execution_count": null,
   "metadata": {},
   "outputs": [],
   "source": [
    "df = pd.DataFrame(crime['INCIDENTNEIGHBORHOOD'].count(), columns = ['Neighborhood', \"Safety Rate\"], index = crime['INCIDENTNEIGHBORHOOD'])\n",
    "df.plot(figsize=(30,15), color=\"pink\", title=\"Safety Rate in Pittsburgh Neighborhood\")\n",
    "                  \n",
    "                  \n",
    "                  \n",
    "                              "
   ]
  },
  {
   "cell_type": "code",
   "execution_count": 9,
   "metadata": {},
   "outputs": [],
   "source": [
    "import pickle\n",
    "pickle.dump(crime_rate_dict, open(\"crime_rate_results.pk1\", \"wb\"))"
   ]
  },
  {
   "cell_type": "code",
   "execution_count": null,
   "metadata": {},
   "outputs": [],
   "source": []
  }
 ],
 "metadata": {
  "kernelspec": {
   "display_name": "Python 3",
   "language": "python",
   "name": "python3"
  },
  "language_info": {
   "codemirror_mode": {
    "name": "ipython",
    "version": 3
   },
   "file_extension": ".py",
   "mimetype": "text/x-python",
   "name": "python",
   "nbconvert_exporter": "python",
   "pygments_lexer": "ipython3",
   "version": "3.8.3"
  }
 },
 "nbformat": 4,
 "nbformat_minor": 4
}
