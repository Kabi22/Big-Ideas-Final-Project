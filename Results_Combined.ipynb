{
 "cells": [
  {
   "cell_type": "code",
   "execution_count": 2,
   "metadata": {},
   "outputs": [
    {
     "name": "stdout",
     "output_type": "stream",
     "text": [
      "{'Beechview': 62.5, 'Crawford-Roberts': 37.5, 'Central Northside': 25.0, 'Bedford Dwellings': 12.5, 'South Side Slopes': 62.5, 'South Side Flats': 25.0, 'Lower Lawrenceville': 12.5, 'Banksville': 12.5, 'Homewood North': 12.5, 'Bon Air': 12.5, 'Central Oakland': 12.5, 'Brighton Heights': 25.0, 'Brookline': 25.0, 'Hazelwood': 37.5, 'Squirrel Hill South': 100.0, 'Spring Garden': 12.5, 'Lincoln-Lemington-Belmar': 25.0, 'Windgap': 12.5, 'Troy Hill': 25.0, 'Westwood': 12.5, 'Perry South': 12.5, 'Homewood West': 12.5, 'Allegheny Center': 50.0, 'Strip District': 12.5, 'Stanton Heights': 12.5, 'Crafton Heights': 25.0, 'West Oakland': 12.5, 'East Carnegie': 12.5, 'Duquesne Heights': 12.5, 'East Liberty': 37.5, 'Esplen': 12.5, 'Fairywood': 12.5, 'Highland Park': 50.0, 'Upper Lawrenceville': 37.5, 'Fineview': 12.5, 'Regent Square': 12.5, 'Garfield': 25.0, 'Greenfield': 25.0, 'South Oakland': 37.5, 'Allentown': 12.5, 'Hays': 12.5, 'Elliott': 37.5, 'Morningside': 25.0, 'Terrace Village': 12.5, 'Larimer': 12.5, 'Carrick': 37.5, 'Central Lawrenceville': 12.5, 'Lincoln Place': 25.0, 'Manchester': 25.0, 'Marshall-Shadeland': 25.0, 'Sheraden': 50.0, 'Beltzhoover': 50.0, 'Shadyside': 12.5, 'Mount Washington': 37.5, 'Oakwood': 12.5, 'Bloomfield': 25.0, 'Perry North': 12.5, 'Upper Hill': 12.5, 'New Homestead': 12.5, 'Spring Hill-City View': 12.5, 'Swisshelm Park': 12.5, 'Bluff': 12.5, 'Middle Hill': 12.5, 'West End': 12.5, 'Polish Hill': 12.5, 'Point Breeze North': 12.5, 'Squirrel Hill North': 12.5}\n"
     ]
    }
   ],
   "source": [
    "import pickle\n",
    "playgrounds_dict = pickle.load(open('playground_results.pkl', 'rb'))\n",
    "print(playgrounds_dict)"
   ]
  },
  {
   "cell_type": "markdown",
   "metadata": {},
   "source": [
    "This metric counts the number of playgrounds present in each neighborhood in Pittsburgh.  In order to create a score out of 100 for the metric, we determined the maximum number of playgrounds within a neighborhood (8), and then scaled that neighborhood to a score of 100/100.  Then, every other neighborhood was weighed relative to that neighborhood, thereby creating an accurate metric that weighs the neighborhoods relative to each other based on the number of playgrounds."
   ]
  },
  {
   "cell_type": "code",
   "execution_count": 4,
   "metadata": {},
   "outputs": [
    {
     "name": "stdout",
     "output_type": "stream",
     "text": [
      "{'Highland Park': 100, 'Squirrel Hill South': 96, 'Perry North': 66, 'Brookline': 63, 'Strip District': 50, 'Hazelwood': 46, 'Brighton Heights': 46, 'Carrick': 40, 'Lincoln-Lemington-Belmar': 36, 'Elliott': 36, 'South Side Slopes': 36, 'Morningside': 33, 'Shadyside': 30, 'Central Business District': 26, 'Point Breeze': 26, 'Beltzhoover': 23, 'Banksville': 23, 'Mount Washington': 23, 'Lower Lawrenceville': 23, 'Sheraden': 23, 'Beechview': 20, 'Spring Hill-City View': 20, 'Bloomfield': 20, 'Bedford Dwellings': 20, 'Homewood West': 20, 'South Side Flats': 16, 'Lincoln Place': 16, 'Squirrel Hill North': 13, 'Greenfield': 13, 'Allegheny Center': 13, 'Garfield': 13, 'Westwood': 13, 'Polish Hill': 13, 'Regent Square': 13, 'Knoxville': 13, 'Windgap': 10, 'Troy Hill': 10, 'Marshall-Shadeland': 10, 'Crawford-Roberts': 10, 'Bluff': 10, 'Allentown': 10, 'Central Lawrenceville': 10, 'Terrace Village': 10, 'Homewood South': 10, 'North Oakland': 10, 'Manchester': 10, 'East Liberty': 10, 'Oakwood': 10, 'Allegheny West': 10, 'East Hills': 10, 'Hays': 6, 'South Oakland': 6, 'West End': 6, 'Upper Hill': 6, 'Duquesne Heights': 6, 'Overbrook': 6, 'Perry South': 6, 'Chateau': 6, 'Fairywood': 3, 'Larimer': 3, 'Point Breeze North': 3, 'Homewood North': 3, 'West Oakland': 3, 'Bon Air': 3, 'Central Northside': 3, 'Swisshelm Park': 3, 'California-Kirkbride': 3, 'Central Oakland': 3, 'Fineview': 3, 'Crafton Heights': 3, 'Middle Hill': 3, 'Glen Hazel': 3, 'East Allegheny': 3, 'Upper Lawrenceville': 3, 'Stanton Heights': 3}\n"
     ]
    }
   ],
   "source": [
    "city_facilities_dict = pickle.load(open(\"city_facilities_results.pkl\", \"rb\"))\n",
    "print(city_facilities_dict)"
   ]
  }
 ],
 "metadata": {
  "kernelspec": {
   "display_name": "Python 3",
   "language": "python",
   "name": "python3"
  },
  "language_info": {
   "codemirror_mode": {
    "name": "ipython",
    "version": 3
   },
   "file_extension": ".py",
   "mimetype": "text/x-python",
   "name": "python",
   "nbconvert_exporter": "python",
   "pygments_lexer": "ipython3",
   "version": "3.8.3"
  }
 },
 "nbformat": 4,
 "nbformat_minor": 4
}
