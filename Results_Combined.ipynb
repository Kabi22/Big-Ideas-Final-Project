{
 "cells": [
  {
   "cell_type": "code",
   "execution_count": 5,
   "metadata": {},
   "outputs": [
    {
     "name": "stdout",
     "output_type": "stream",
     "text": [
      "{'Beechview': 62.5, 'Crawford-Roberts': 37.5, 'Central Northside': 25.0, 'Bedford Dwellings': 12.5, 'South Side Slopes': 62.5, 'South Side Flats': 25.0, 'Lower Lawrenceville': 12.5, 'Banksville': 12.5, 'Homewood North': 12.5, 'Bon Air': 12.5, 'Central Oakland': 12.5, 'Brighton Heights': 25.0, 'Brookline': 25.0, 'Hazelwood': 37.5, 'Squirrel Hill South': 100.0, 'Spring Garden': 12.5, 'Lincoln-Lemington-Belmar': 25.0, 'Windgap': 12.5, 'Troy Hill': 25.0, 'Westwood': 12.5, 'Perry South': 12.5, 'Homewood West': 12.5, 'Allegheny Center': 50.0, 'Strip District': 12.5, 'Stanton Heights': 12.5, 'Crafton Heights': 25.0, 'West Oakland': 12.5, 'East Carnegie': 12.5, 'Duquesne Heights': 12.5, 'East Liberty': 37.5, 'Esplen': 12.5, 'Fairywood': 12.5, 'Highland Park': 50.0, 'Upper Lawrenceville': 37.5, 'Fineview': 12.5, 'Regent Square': 12.5, 'Garfield': 25.0, 'Greenfield': 25.0, 'South Oakland': 37.5, 'Allentown': 12.5, 'Hays': 12.5, 'Elliott': 37.5, 'Morningside': 25.0, 'Terrace Village': 12.5, 'Larimer': 12.5, 'Carrick': 37.5, 'Central Lawrenceville': 12.5, 'Lincoln Place': 25.0, 'Manchester': 25.0, 'Marshall-Shadeland': 25.0, 'Sheraden': 50.0, 'Beltzhoover': 50.0, 'Shadyside': 12.5, 'Mount Washington': 37.5, 'Oakwood': 12.5, 'Bloomfield': 25.0, 'Perry North': 12.5, 'Upper Hill': 12.5, 'New Homestead': 12.5, 'Spring Hill-City View': 12.5, 'Swisshelm Park': 12.5, 'Bluff': 12.5, 'Middle Hill': 12.5, 'West End': 12.5, 'Polish Hill': 12.5, 'Point Breeze North': 12.5, 'Squirrel Hill North': 12.5}\n"
     ]
    }
   ],
   "source": [
    "import pickle\n",
    "playgrounds_dict = pickle.load(open('playground_results.pkl', 'rb'))\n",
    "print(playgrounds_dict)"
   ]
  },
  {
   "cell_type": "code",
   "execution_count": null,
   "metadata": {},
   "outputs": [],
   "source": []
  }
 ],
 "metadata": {
  "kernelspec": {
   "display_name": "Python 3",
   "language": "python",
   "name": "python3"
  },
  "language_info": {
   "codemirror_mode": {
    "name": "ipython",
    "version": 3
   },
   "file_extension": ".py",
   "mimetype": "text/x-python",
   "name": "python",
   "nbconvert_exporter": "python",
   "pygments_lexer": "ipython3",
   "version": "3.8.3"
  }
 },
 "nbformat": 4,
 "nbformat_minor": 4
}
